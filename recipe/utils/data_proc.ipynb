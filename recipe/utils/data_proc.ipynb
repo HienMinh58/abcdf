{
 "cells": [
  {
   "cell_type": "code",
   "execution_count": 35,
   "id": "5cceec76",
   "metadata": {},
   "outputs": [],
   "source": [
    "import sqlite3\n",
    "import json\n",
    "import sys\n",
    "import os\n",
    "import torch\n",
    "import numpy as np\n",
    "\n",
    "from sentence_transformers import SentenceTransformer, util"
   ]
  },
  {
   "cell_type": "code",
   "execution_count": 36,
   "id": "d2e7658e",
   "metadata": {},
   "outputs": [],
   "source": [
    "\n",
    "\n",
    "model = SentenceTransformer('all-MiniLM-L6-v2')\n",
    "\n",
    "db_path = 'C:/Users/phudi/OneDrive/Desktop/as1_cs235/abc/recipe/adapters/data/database.db'\n"
   ]
  },
  {
   "cell_type": "code",
   "execution_count": 37,
   "id": "5a9873c1",
   "metadata": {},
   "outputs": [],
   "source": [
    "def sample(db_path):\n",
    "    conn = sqlite3.connect(db_path)\n",
    "    cursor = conn.cursor()\n",
    "    cursor.execute(\"SELECT name, ingredients, instructions, cooking_time FROM recipes LIMIT 5\")\n",
    "    recipes = cursor.fetchall()\n",
    "    \n",
    "    json_string = []\n",
    "    \n",
    "    for i, recipe in enumerate(recipes):\n",
    "        json_string.append({\n",
    "            \"Recipe name\": recipe[0],\n",
    "            \"Ingredients\": recipe[1],\n",
    "            \"Instructions\": recipe[2],\n",
    "            \"Cooking time\": f\"{recipe[3]} minutes\"\n",
    "        })\n",
    "    \n",
    "    json_string = json.dumps(json_string, indent=2)\n",
    "    # print(json_string)\n",
    "    \n",
    "    return json_string"
   ]
  },
  {
   "cell_type": "code",
   "execution_count": 38,
   "id": "82d0e5d6",
   "metadata": {},
   "outputs": [],
   "source": [
    "def embedding(recipes) -> list:\n",
    "    #texts\n",
    "    name_texts = [recipe[\"Recipe name\"] for recipe in recipes]\n",
    "    ingredients_texts = [recipe[\"Ingredients\"] for recipe in recipes]\n",
    "    instructions_texts = [recipe[\"Instructions\"] for recipe in recipes]\n",
    "    cookingtime_texts = [recipe[\"Cooking time\"] for recipe in recipes]\n",
    "    \n",
    "    data = []\n",
    "    #embeddings data\n",
    "    name_embeddings = model.encode(name_texts, convert_to_tensor=True) \n",
    "    # print(f\"Name embedding: {name_embeddings}\")\n",
    "    ingredients_embeddings = model.encode(ingredients_texts, convert_to_tensor=True)\n",
    "    instructions_embeddings = model.encode(instructions_texts, convert_to_tensor=True)\n",
    "    cookingtime_embeddings = model.encode(cookingtime_texts, convert_to_tensor=True)\n",
    "    \n",
    "    \n",
    "    \n",
    "    data.append({\n",
    "        \"Name Field\": name_embeddings,\n",
    "        \"Ingredients Field\": ingredients_embeddings,\n",
    "        \"Instructions Field\": instructions_embeddings,\n",
    "        \"Cooking_time Field\": cookingtime_embeddings\n",
    "    })\n",
    "    return data"
   ]
  },
  {
   "cell_type": "code",
   "execution_count": 39,
   "id": "c4529c1e",
   "metadata": {},
   "outputs": [],
   "source": [
    "def embedding_query(query: str) -> list:\n",
    "    #embedding query\n",
    "    query_embeddings = model.encode(query, convert_to_tensor=True)\n",
    "    \n",
    "    return query_embeddings"
   ]
  },
  {
   "cell_type": "code",
   "execution_count": 40,
   "id": "55933d29",
   "metadata": {},
   "outputs": [
    {
     "name": "stdout",
     "output_type": "stream",
     "text": [
      "(5, 4)\n",
      "Average score: [0.26399369 0.19602754 0.33222242 0.26939606 0.29160116]\n",
      "Top Recipes: [{'Recipe name': \"Carina's Tofu-Vegetable Kebabs\", 'Ingredients': 'extra firm tofu, eggplant, zucchini, mushrooms, soy sauce, low sodium soy sauce, olive oil, maple syrup, honey, red wine vinegar, lemon juice, garlic cloves, mustard powder, black pepper', 'Instructions': 'Drain the tofu, carefully squeezing out excess water,  and pat dry with paper towels., Cut tofu into one-inch squares., Set aside.  Cut  eggplant lengthwise in half, then cut each half into approximately three strips., Cut strips crosswise into one-inch cubes., Slice zucchini into half-inch thick  slices., Cut red pepper in half, removing stem and seeds, and cut each half into  one-inch squares., Wipe mushrooms clean with a moist paper towel and remove  stems., Thread tofu and vegetables on to barbecue skewers in alternating color  combinations: For example, first a piece of eggplant, then a slice of tofu, then zucchini, then red pepper, baby corn and mushrooms., Continue in this way until  all skewers are full., Make the marinade by putting all ingredients in a  blender, and blend on high speed for about one minute until mixed., Alternatively, put all ingredients in a glass jar, cover tightly with the lid  and shake well until mixed., Lay the kebabs in a long, shallow baking pan or on  a non-metal tray, making sure they lie flat. Evenly pour the marinade over the  kebabs, turning them once so that the tofu and vegetables are coated., Refrigerate the kebabs for three to eight hours, occasionally spooning the  marinade over them., Broil or grill the kebabs at 450 F for 15-20 minutes, or on the grill, until the vegetables are browned., Suggestions  This meal can be served over cooked, brown rice. Amounts can easily be doubled to make four servings.', 'Cooking time': '20 minutes', 'average_similarity': np.float64(0.3322224151343107)}, {'Recipe name': 'Warm Chicken A La King', 'Ingredients': 'chicken, butter, flour, milk, celery, button mushrooms, green pepper, canned pimiento, salt, black pepper, Worcestershire sauce, parsley', 'Instructions': 'Melt 1 1/2 ozs butter, add the flour and cook for 2 to 3 minutes, stirring., Gradually add milk and cook, stirring, until thick and smooth., Melt the  remaining butter and saute sliced celery, button mushrooms and chopped pepper  until soft but not coloured., Add celery, mushrooms, pepper, chicken and  pimiento to the sauce and heat through., Season to taste.  Combine the egg  yolks, double cream and Worcestershire sauce. Add to the chicken mixture and  heat through., Transfer to a serving dish and sprinkle with chopped parsley.', 'Cooking time': '3 minutes', 'average_similarity': np.float64(0.2916011568158865)}, {'Recipe name': 'Cabbage Soup', 'Ingredients': 'plain tomato juice, cabbage, onion, carrots, celery', 'Instructions': 'Mix everything together and bring to a boil., Reduce heat and simmer for 30 minutes (longer if you prefer your veggies to be soft)., Refrigerate until cool., Serve chilled with sour cream.', 'Cooking time': '30 minutes', 'average_similarity': np.float64(0.2693960554897785)}]\n"
     ]
    },
    {
     "data": {
      "text/plain": [
       "[{'Recipe name': \"Carina's Tofu-Vegetable Kebabs\",\n",
       "  'Ingredients': 'extra firm tofu, eggplant, zucchini, mushrooms, soy sauce, low sodium soy sauce, olive oil, maple syrup, honey, red wine vinegar, lemon juice, garlic cloves, mustard powder, black pepper',\n",
       "  'Instructions': 'Drain the tofu, carefully squeezing out excess water,  and pat dry with paper towels., Cut tofu into one-inch squares., Set aside.  Cut  eggplant lengthwise in half, then cut each half into approximately three strips., Cut strips crosswise into one-inch cubes., Slice zucchini into half-inch thick  slices., Cut red pepper in half, removing stem and seeds, and cut each half into  one-inch squares., Wipe mushrooms clean with a moist paper towel and remove  stems., Thread tofu and vegetables on to barbecue skewers in alternating color  combinations: For example, first a piece of eggplant, then a slice of tofu, then zucchini, then red pepper, baby corn and mushrooms., Continue in this way until  all skewers are full., Make the marinade by putting all ingredients in a  blender, and blend on high speed for about one minute until mixed., Alternatively, put all ingredients in a glass jar, cover tightly with the lid  and shake well until mixed., Lay the kebabs in a long, shallow baking pan or on  a non-metal tray, making sure they lie flat. Evenly pour the marinade over the  kebabs, turning them once so that the tofu and vegetables are coated., Refrigerate the kebabs for three to eight hours, occasionally spooning the  marinade over them., Broil or grill the kebabs at 450 F for 15-20 minutes, or on the grill, until the vegetables are browned., Suggestions  This meal can be served over cooked, brown rice. Amounts can easily be doubled to make four servings.',\n",
       "  'Cooking time': '20 minutes',\n",
       "  'average_similarity': np.float64(0.3322224151343107)},\n",
       " {'Recipe name': 'Warm Chicken A La King',\n",
       "  'Ingredients': 'chicken, butter, flour, milk, celery, button mushrooms, green pepper, canned pimiento, salt, black pepper, Worcestershire sauce, parsley',\n",
       "  'Instructions': 'Melt 1 1/2 ozs butter, add the flour and cook for 2 to 3 minutes, stirring., Gradually add milk and cook, stirring, until thick and smooth., Melt the  remaining butter and saute sliced celery, button mushrooms and chopped pepper  until soft but not coloured., Add celery, mushrooms, pepper, chicken and  pimiento to the sauce and heat through., Season to taste.  Combine the egg  yolks, double cream and Worcestershire sauce. Add to the chicken mixture and  heat through., Transfer to a serving dish and sprinkle with chopped parsley.',\n",
       "  'Cooking time': '3 minutes',\n",
       "  'average_similarity': np.float64(0.2916011568158865)},\n",
       " {'Recipe name': 'Cabbage Soup',\n",
       "  'Ingredients': 'plain tomato juice, cabbage, onion, carrots, celery',\n",
       "  'Instructions': 'Mix everything together and bring to a boil., Reduce heat and simmer for 30 minutes (longer if you prefer your veggies to be soft)., Refrigerate until cool., Serve chilled with sour cream.',\n",
       "  'Cooking time': '30 minutes',\n",
       "  'average_similarity': np.float64(0.2693960554897785)}]"
      ]
     },
     "execution_count": 40,
     "metadata": {},
     "output_type": "execute_result"
    }
   ],
   "source": [
    "def similarity_scores(data: list, query: torch.Tensor, recipes: list, top_k=3) -> list:\n",
    "    data_dict = data[0]\n",
    "    num_recipes = len(recipes)\n",
    "    all_scores = np.zeros((num_recipes, len(data_dict)))\n",
    "    print(all_scores.shape)\n",
    "    \n",
    "    fields = list(data_dict.keys())\n",
    "    for field_idx, (field, embeddings) in enumerate(data_dict.items()):\n",
    "        sim = util.cos_sim(query, embeddings).cpu().numpy().flatten()\n",
    "        all_scores[:, field_idx] = sim\n",
    "    \n",
    "    avg_scores = np.mean(all_scores, axis=1)\n",
    "    print(f\"Average score: {avg_scores}\")\n",
    "    sorted_indices = np.argsort(avg_scores)[::-1][:top_k]\n",
    "    \n",
    "    top_recipes = []\n",
    "    for idx in sorted_indices:\n",
    "        recipe = recipes[idx].copy()\n",
    "        recipe[\"average_similarity\"] = avg_scores[idx]\n",
    "        top_recipes.append(recipe)\n",
    "    \n",
    "    print(f\"Top Recipes: {top_recipes}\")\n",
    "    return top_recipes\n",
    "\n",
    "recipes = sample(db_path=db_path)\n",
    "query = \"Which recipes is made from mushroom?\"\n",
    "recipes = json.loads(recipes)\n",
    "data_embeddings = embedding(recipes=recipes)\n",
    "query_embeddings = embedding_query(query=query)\n",
    "similarity_scores(data=data_embeddings, query=query_embeddings, recipes=recipes)"
   ]
  },
  {
   "cell_type": "code",
   "execution_count": 41,
   "id": "23ca40a1",
   "metadata": {},
   "outputs": [
    {
     "name": "stdout",
     "output_type": "stream",
     "text": [
      "Shape of Name Field: torch.Size([5, 384])\n",
      "Shape of Ingredients Field: torch.Size([5, 384])\n",
      "Shape of Instructions Field: torch.Size([5, 384])\n",
      "Shape of Cooking_time Field: torch.Size([5, 384])\n",
      "Shape of query_embeddings: torch.Size([384])\n",
      "(5, 4)\n",
      "Average score: [0.26399369 0.19602754 0.33222242 0.26939606 0.29160116]\n",
      "Top Recipes: [{'Recipe name': \"Carina's Tofu-Vegetable Kebabs\", 'Ingredients': 'extra firm tofu, eggplant, zucchini, mushrooms, soy sauce, low sodium soy sauce, olive oil, maple syrup, honey, red wine vinegar, lemon juice, garlic cloves, mustard powder, black pepper', 'Instructions': 'Drain the tofu, carefully squeezing out excess water,  and pat dry with paper towels., Cut tofu into one-inch squares., Set aside.  Cut  eggplant lengthwise in half, then cut each half into approximately three strips., Cut strips crosswise into one-inch cubes., Slice zucchini into half-inch thick  slices., Cut red pepper in half, removing stem and seeds, and cut each half into  one-inch squares., Wipe mushrooms clean with a moist paper towel and remove  stems., Thread tofu and vegetables on to barbecue skewers in alternating color  combinations: For example, first a piece of eggplant, then a slice of tofu, then zucchini, then red pepper, baby corn and mushrooms., Continue in this way until  all skewers are full., Make the marinade by putting all ingredients in a  blender, and blend on high speed for about one minute until mixed., Alternatively, put all ingredients in a glass jar, cover tightly with the lid  and shake well until mixed., Lay the kebabs in a long, shallow baking pan or on  a non-metal tray, making sure they lie flat. Evenly pour the marinade over the  kebabs, turning them once so that the tofu and vegetables are coated., Refrigerate the kebabs for three to eight hours, occasionally spooning the  marinade over them., Broil or grill the kebabs at 450 F for 15-20 minutes, or on the grill, until the vegetables are browned., Suggestions  This meal can be served over cooked, brown rice. Amounts can easily be doubled to make four servings.', 'Cooking time': '20 minutes', 'average_similarity': np.float64(0.3322224151343107)}, {'Recipe name': 'Warm Chicken A La King', 'Ingredients': 'chicken, butter, flour, milk, celery, button mushrooms, green pepper, canned pimiento, salt, black pepper, Worcestershire sauce, parsley', 'Instructions': 'Melt 1 1/2 ozs butter, add the flour and cook for 2 to 3 minutes, stirring., Gradually add milk and cook, stirring, until thick and smooth., Melt the  remaining butter and saute sliced celery, button mushrooms and chopped pepper  until soft but not coloured., Add celery, mushrooms, pepper, chicken and  pimiento to the sauce and heat through., Season to taste.  Combine the egg  yolks, double cream and Worcestershire sauce. Add to the chicken mixture and  heat through., Transfer to a serving dish and sprinkle with chopped parsley.', 'Cooking time': '3 minutes', 'average_similarity': np.float64(0.2916011568158865)}, {'Recipe name': 'Cabbage Soup', 'Ingredients': 'plain tomato juice, cabbage, onion, carrots, celery', 'Instructions': 'Mix everything together and bring to a boil., Reduce heat and simmer for 30 minutes (longer if you prefer your veggies to be soft)., Refrigerate until cool., Serve chilled with sour cream.', 'Cooking time': '30 minutes', 'average_similarity': np.float64(0.2693960554897785)}]\n",
      "Top 3 recipes có similarity cao nhất:\n",
      "{\n",
      "  \"Recipe name\": \"Carina's Tofu-Vegetable Kebabs\",\n",
      "  \"Ingredients\": \"extra firm tofu, eggplant, zucchini, mushrooms, soy sauce, low sodium soy sauce, olive oil, maple syrup, honey, red wine vinegar, lemon juice, garlic cloves, mustard powder, black pepper\",\n",
      "  \"Instructions\": \"Drain the tofu, carefully squeezing out excess water,  and pat dry with paper towels., Cut tofu into one-inch squares., Set aside.  Cut  eggplant lengthwise in half, then cut each half into approximately three strips., Cut strips crosswise into one-inch cubes., Slice zucchini into half-inch thick  slices., Cut red pepper in half, removing stem and seeds, and cut each half into  one-inch squares., Wipe mushrooms clean with a moist paper towel and remove  stems., Thread tofu and vegetables on to barbecue skewers in alternating color  combinations: For example, first a piece of eggplant, then a slice of tofu, then zucchini, then red pepper, baby corn and mushrooms., Continue in this way until  all skewers are full., Make the marinade by putting all ingredients in a  blender, and blend on high speed for about one minute until mixed., Alternatively, put all ingredients in a glass jar, cover tightly with the lid  and shake well until mixed., Lay the kebabs in a long, shallow baking pan or on  a non-metal tray, making sure they lie flat. Evenly pour the marinade over the  kebabs, turning them once so that the tofu and vegetables are coated., Refrigerate the kebabs for three to eight hours, occasionally spooning the  marinade over them., Broil or grill the kebabs at 450 F for 15-20 minutes, or on the grill, until the vegetables are browned., Suggestions  This meal can be served over cooked, brown rice. Amounts can easily be doubled to make four servings.\",\n",
      "  \"Cooking time\": \"20 minutes\",\n",
      "  \"average_similarity\": 0.3322224151343107\n",
      "}\n",
      "{\n",
      "  \"Recipe name\": \"Warm Chicken A La King\",\n",
      "  \"Ingredients\": \"chicken, butter, flour, milk, celery, button mushrooms, green pepper, canned pimiento, salt, black pepper, Worcestershire sauce, parsley\",\n",
      "  \"Instructions\": \"Melt 1 1/2 ozs butter, add the flour and cook for 2 to 3 minutes, stirring., Gradually add milk and cook, stirring, until thick and smooth., Melt the  remaining butter and saute sliced celery, button mushrooms and chopped pepper  until soft but not coloured., Add celery, mushrooms, pepper, chicken and  pimiento to the sauce and heat through., Season to taste.  Combine the egg  yolks, double cream and Worcestershire sauce. Add to the chicken mixture and  heat through., Transfer to a serving dish and sprinkle with chopped parsley.\",\n",
      "  \"Cooking time\": \"3 minutes\",\n",
      "  \"average_similarity\": 0.2916011568158865\n",
      "}\n",
      "{\n",
      "  \"Recipe name\": \"Cabbage Soup\",\n",
      "  \"Ingredients\": \"plain tomato juice, cabbage, onion, carrots, celery\",\n",
      "  \"Instructions\": \"Mix everything together and bring to a boil., Reduce heat and simmer for 30 minutes (longer if you prefer your veggies to be soft)., Refrigerate until cool., Serve chilled with sour cream.\",\n",
      "  \"Cooking time\": \"30 minutes\",\n",
      "  \"average_similarity\": 0.2693960554897785\n",
      "}\n"
     ]
    }
   ],
   "source": [
    "recipes = sample(db_path=db_path)\n",
    "query = \"Which recipes is made from mushroom?\"\n",
    "\n",
    "recipes = json.loads(recipes)\n",
    "\n",
    "data_embeddings = embedding(recipes=recipes)\n",
    "query_embeddings = embedding_query(query=query)\n",
    "\n",
    "# Print shapes of embeddings in data_embeddings\n",
    "for data_dict in data_embeddings:\n",
    "    for field, embedding in data_dict.items():\n",
    "        print(f\"Shape of {field}: {embedding.shape}\")\n",
    "\n",
    "print(f\"Shape of query_embeddings: {query_embeddings.shape}\")\n",
    "\n",
    "# Compute and print top 3 recipes\n",
    "top_recipes = similarity_scores(data_embeddings, query_embeddings, recipes, top_k=3)\n",
    "print(\"Top 3 recipes có similarity cao nhất:\")\n",
    "for recipe in top_recipes:\n",
    "    print(json.dumps(recipe, indent=2))"
   ]
  }
 ],
 "metadata": {
  "kernelspec": {
   "display_name": "venv",
   "language": "python",
   "name": "python3"
  },
  "language_info": {
   "codemirror_mode": {
    "name": "ipython",
    "version": 3
   },
   "file_extension": ".py",
   "mimetype": "text/x-python",
   "name": "python",
   "nbconvert_exporter": "python",
   "pygments_lexer": "ipython3",
   "version": "3.12.0"
  }
 },
 "nbformat": 4,
 "nbformat_minor": 5
}
